{
    "cells": [
        {
            "cell_type": "markdown",
            "metadata": {},
            "source": "<a href=\"https://cognitiveclass.ai\"><img src = \"https://ibm.box.com/shared/static/ugcqz6ohbvff804xp84y4kqnvvk3bq1g.png\" width = 300, align = \"center\"></a>\n\n<h1 align=center><font size = 5>Assignment: Notebook for Peer Assignment</font></h1>"
        },
        {
            "cell_type": "markdown",
            "metadata": {},
            "source": "# Introduction\n\nUsing this Python notebook you will:\n1. Understand 3 Chicago datasets  \n1. Load the 3 datasets into 3 tables in a Db2 database\n1. Execute SQL queries to answer assignment questions "
        },
        {
            "cell_type": "markdown",
            "metadata": {},
            "source": "## Understand the datasets \nTo complete the assignment problems in this notebook you will be using three datasets that are available on the city of Chicago's Data Portal:\n1. <a href=\"https://data.cityofchicago.org/Health-Human-Services/Census-Data-Selected-socioeconomic-indicators-in-C/kn9c-c2s2\">Socioeconomic Indicators in Chicago</a>\n1. <a href=\"https://data.cityofchicago.org/Education/Chicago-Public-Schools-Progress-Report-Cards-2011-/9xs2-f89t\">Chicago Public Schools</a>\n1. <a href=\"https://data.cityofchicago.org/Public-Safety/Crimes-2001-to-present/ijzp-q8t2\">Chicago Crime Data</a>\n\n### 1. Socioeconomic Indicators in Chicago\nThis dataset contains a selection of six socioeconomic indicators of public health significance and a \u201chardship index,\u201d for each Chicago community area, for the years 2008 \u2013 2012.\n\nFor this assignment you will use a snapshot of this dataset which can be downloaded from:\nhttps://ibm.box.com/shared/static/05c3415cbfbtfnr2fx4atenb2sd361ze.csv\n\nA detailed description of this dataset and the original dataset can be obtained from the Chicago Data Portal at:\nhttps://data.cityofchicago.org/Health-Human-Services/Census-Data-Selected-socioeconomic-indicators-in-C/kn9c-c2s2\n\n\n\n### 2. Chicago Public Schools\n\nThis dataset shows all school level performance data used to create CPS School Report Cards for the 2011-2012 school year. This dataset is provided by the city of Chicago's Data Portal.\n\nFor this assignment you will use a snapshot of this dataset which can be downloaded from:\nhttps://ibm.box.com/shared/static/f9gjvj1gjmxxzycdhplzt01qtz0s7ew7.csv\n\nA detailed description of this dataset and the original dataset can be obtained from the Chicago Data Portal at:\nhttps://data.cityofchicago.org/Education/Chicago-Public-Schools-Progress-Report-Cards-2011-/9xs2-f89t\n\n\n\n\n### 3. Chicago Crime Data \n\nThis dataset reflects reported incidents of crime (with the exception of murders where data exists for each victim) that occurred in the City of Chicago from 2001 to present, minus the most recent seven days. \n\nThis dataset is quite large - over 1.5GB in size with over 6.5 million rows. For the purposes of this assignment we will use a much smaller sample of this dataset which can be downloaded from:\nhttps://ibm.box.com/shared/static/svflyugsr9zbqy5bmowgswqemfpm1x7f.csv\n\nA detailed description of this dataset and the original dataset can be obtained from the Chicago Data Portal at:\nhttps://data.cityofchicago.org/Public-Safety/Crimes-2001-to-present/ijzp-q8t2\n"
        },
        {
            "cell_type": "markdown",
            "metadata": {},
            "source": "### Download the datasets\nIn many cases the dataset to be analyzed is available as a .CSV (comma separated values) file, perhaps on the internet. Click on the links below to download and save the datasets (.CSV files):\n1. __CENSUS_DATA:__ https://ibm.box.com/shared/static/05c3415cbfbtfnr2fx4atenb2sd361ze.csv\n1. __CHICAGO_PUBLIC_SCHOOLS__  https://ibm.box.com/shared/static/f9gjvj1gjmxxzycdhplzt01qtz0s7ew7.csv\n1. __CHICAGO_CRIME_DATA:__ https://ibm.box.com/shared/static/svflyugsr9zbqy5bmowgswqemfpm1x7f.csv\n\n__NOTE:__ Ensure you have downloaded the datasets using the links above instead of directly from the Chicago Data Portal. The versions linked here are subsets of the original datasets and have some of the column names modified to be more database friendly which will make it easier to complete this assignment."
        },
        {
            "cell_type": "markdown",
            "metadata": {},
            "source": "### Store the datasets in database tables\nTo analyze the data using SQL, it first needs to be stored in the database.\n\nWhile it is easier to read the dataset into a Pandas dataframe and then PERSIST it into the database as we saw in Week 3 Lab 3, it results in mapping to default datatypes which may not be optimal for SQL querying. For example a long textual field may map to a CLOB instead of a VARCHAR. \n\nTherefore, __it is highly recommended to manually load the table using the database console LOAD tool, as indicated in Week 2 Lab 1 Part II__. The only difference with that lab is that in Step 5 of the instructions you will need to click on create \"(+) New Table\" and specify the name of the table you want to create and then click \"Next\". \n\n<img src = \"https://ibm.box.com/shared/static/uc4xjh1uxcc78ks1i18v668simioz4es.jpg\">\n\n##### Now open the Db2 console, open the LOAD tool, Select / Drag the .CSV file for the first dataset, Next create a New Table, and then follow the steps on-screen instructions to load the data. Name the new tables as folows:\n1. __CENSUS_DATA__\n1. __CHICAGO_PUBLIC_SCHOOLS__\n1. __CHICAGO_CRIME_DATA__"
        },
        {
            "cell_type": "markdown",
            "metadata": {},
            "source": "### Connect to the database \nLet us first load the SQL extension and establish a connection with the database"
        },
        {
            "cell_type": "code",
            "execution_count": 3,
            "metadata": {},
            "outputs": [
                {
                    "name": "stdout",
                    "output_type": "stream",
                    "text": "Collecting ipython-sql\n  Downloading https://files.pythonhosted.org/packages/ab/df/427e7cf05ffc67e78672ad57dce2436c1e825129033effe6fcaf804d0c60/ipython_sql-0.3.9-py2.py3-none-any.whl\nCollecting sqlparse (from ipython-sql)\n\u001b[?25l  Downloading https://files.pythonhosted.org/packages/85/ee/6e821932f413a5c4b76be9c5936e313e4fc626b33f16e027866e1d60f588/sqlparse-0.3.1-py2.py3-none-any.whl (40kB)\n\u001b[K     |\u2588\u2588\u2588\u2588\u2588\u2588\u2588\u2588\u2588\u2588\u2588\u2588\u2588\u2588\u2588\u2588\u2588\u2588\u2588\u2588\u2588\u2588\u2588\u2588\u2588\u2588\u2588\u2588\u2588\u2588\u2588\u2588| 40kB 6.2MB/s eta 0:00:011\n\u001b[?25hRequirement already satisfied: sqlalchemy>=0.6.7 in /opt/conda/envs/Python36/lib/python3.6/site-packages (from ipython-sql) (1.2.18)\nRequirement already satisfied: ipython>=1.0 in /opt/conda/envs/Python36/lib/python3.6/site-packages (from ipython-sql) (7.2.0)\nRequirement already satisfied: six in /opt/conda/envs/Python36/lib/python3.6/site-packages (from ipython-sql) (1.12.0)\nRequirement already satisfied: ipython-genutils>=0.1.0 in /opt/conda/envs/Python36/lib/python3.6/site-packages (from ipython-sql) (0.2.0)\nCollecting prettytable (from ipython-sql)\n  Downloading https://files.pythonhosted.org/packages/ef/30/4b0746848746ed5941f052479e7c23d2b56d174b82f4fd34a25e389831f5/prettytable-0.7.2.tar.bz2\nRequirement already satisfied: prompt-toolkit<2.1.0,>=2.0.0 in /opt/conda/envs/Python36/lib/python3.6/site-packages (from ipython>=1.0->ipython-sql) (2.0.8)\nRequirement already satisfied: jedi>=0.10 in /opt/conda/envs/Python36/lib/python3.6/site-packages (from ipython>=1.0->ipython-sql) (0.13.2)\nRequirement already satisfied: pickleshare in /opt/conda/envs/Python36/lib/python3.6/site-packages (from ipython>=1.0->ipython-sql) (0.7.5)\nRequirement already satisfied: setuptools>=18.5 in /opt/conda/envs/Python36/lib/python3.6/site-packages (from ipython>=1.0->ipython-sql) (40.8.0)\nRequirement already satisfied: pygments in /opt/conda/envs/Python36/lib/python3.6/site-packages (from ipython>=1.0->ipython-sql) (2.3.1)\nRequirement already satisfied: backcall in /opt/conda/envs/Python36/lib/python3.6/site-packages (from ipython>=1.0->ipython-sql) (0.1.0)\nRequirement already satisfied: traitlets>=4.2 in /opt/conda/envs/Python36/lib/python3.6/site-packages (from ipython>=1.0->ipython-sql) (4.3.2)\nRequirement already satisfied: pexpect; sys_platform != \"win32\" in /opt/conda/envs/Python36/lib/python3.6/site-packages (from ipython>=1.0->ipython-sql) (4.6.0)\nRequirement already satisfied: decorator in /opt/conda/envs/Python36/lib/python3.6/site-packages (from ipython>=1.0->ipython-sql) (4.3.2)\nRequirement already satisfied: wcwidth in /opt/conda/envs/Python36/lib/python3.6/site-packages (from prompt-toolkit<2.1.0,>=2.0.0->ipython>=1.0->ipython-sql) (0.1.7)\nRequirement already satisfied: parso>=0.3.0 in /opt/conda/envs/Python36/lib/python3.6/site-packages (from jedi>=0.10->ipython>=1.0->ipython-sql) (0.3.2)\nRequirement already satisfied: ptyprocess>=0.5 in /opt/conda/envs/Python36/lib/python3.6/site-packages (from pexpect; sys_platform != \"win32\"->ipython>=1.0->ipython-sql) (0.6.0)\nBuilding wheels for collected packages: prettytable\n  Building wheel for prettytable (setup.py) ... \u001b[?25ldone\n\u001b[?25h  Stored in directory: /home/dsxuser/.cache/pip/wheels/80/34/1c/3967380d9676d162cb59513bd9dc862d0584e045a162095606\nSuccessfully built prettytable\nInstalling collected packages: sqlparse, prettytable, ipython-sql\nSuccessfully installed ipython-sql-0.3.9 prettytable-0.7.2 sqlparse-0.3.1\n"
                }
            ],
            "source": "!pip install ipython-sql\n%load_ext sql"
        },
        {
            "cell_type": "markdown",
            "metadata": {},
            "source": "In the next cell enter your db2 connection string. Recall you created Service Credentials for your Db2 instance in first lab in Week 3. From the __uri__ field of your Db2 service credentials copy everything after db2:// (except the double quote at the end) and paste it in the cell below after ibm_db_sa://\n\n<img src =\"https://ibm.box.com/shared/static/hzhkvdyinpupm2wfx49lkr71q9swbpec.jpg\">"
        },
        {
            "cell_type": "code",
            "execution_count": 4,
            "metadata": {},
            "outputs": [
                {
                    "data": {
                        "text/plain": "'Connected: ngd93275@BLUDB'"
                    },
                    "execution_count": 4,
                    "metadata": {},
                    "output_type": "execute_result"
                }
            ],
            "source": "# Remember the connection string is of the format:\n# %sql ibm_db_sa://my-username:my-password@my-hostname:my-port/my-db-name\n# Enter the connection string for your Db2 on Cloud database instance below\n%sql ibm_db_sa://ngd93275:d0@fd0fz9gg6whss@dashdb-txn-sbox-yp-dal09-04.services.dal.bluemix.net:50000/BLUDB"
        },
        {
            "cell_type": "markdown",
            "metadata": {},
            "source": "## Problems\nNow write and execute SQL queries to solve assignment problems\n\n### Problem 1\n\n##### Find the total number of crimes recorded in the CRIME table"
        },
        {
            "cell_type": "code",
            "execution_count": 5,
            "metadata": {},
            "outputs": [
                {
                    "name": "stdout",
                    "output_type": "stream",
                    "text": " * ibm_db_sa://ngd93275:***@dashdb-txn-sbox-yp-dal09-04.services.dal.bluemix.net:50000/BLUDB\nDone.\n"
                },
                {
                    "data": {
                        "text/html": "<table>\n    <tr>\n        <th>1</th>\n    </tr>\n    <tr>\n        <td>0</td>\n    </tr>\n</table>",
                        "text/plain": "[(Decimal('0'),)]"
                    },
                    "execution_count": 5,
                    "metadata": {},
                    "output_type": "execute_result"
                }
            ],
            "source": "# Rows in Crime table\n%sql select COUNT(id) from CHICAGO_CRIME_DATA"
        },
        {
            "cell_type": "markdown",
            "metadata": {},
            "source": "### Problem 2\n\n##### Retrieve first 10 rows from the CRIME table\n"
        },
        {
            "cell_type": "code",
            "execution_count": 6,
            "metadata": {},
            "outputs": [
                {
                    "name": "stdout",
                    "output_type": "stream",
                    "text": " * ibm_db_sa://ngd93275:***@dashdb-txn-sbox-yp-dal09-04.services.dal.bluemix.net:50000/BLUDB\nDone.\n"
                },
                {
                    "data": {
                        "text/html": "<table>\n    <tr>\n        <th>id</th>\n        <th>case_number</th>\n        <th>iucr</th>\n        <th>primary_type</th>\n    </tr>\n</table>",
                        "text/plain": "[]"
                    },
                    "execution_count": 6,
                    "metadata": {},
                    "output_type": "execute_result"
                }
            ],
            "source": "%sql select id, case_number, iucr, primary_type from CHICAGO_CRIME_DATA limit 10"
        },
        {
            "cell_type": "markdown",
            "metadata": {},
            "source": "### Problem 3\n\n##### How many crimes involve an arrest?"
        },
        {
            "cell_type": "code",
            "execution_count": 7,
            "metadata": {},
            "outputs": [
                {
                    "name": "stdout",
                    "output_type": "stream",
                    "text": " * ibm_db_sa://ngd93275:***@dashdb-txn-sbox-yp-dal09-04.services.dal.bluemix.net:50000/BLUDB\nDone.\n"
                },
                {
                    "data": {
                        "text/html": "<table>\n    <tr>\n        <th>total_crimes_involving_arrest</th>\n    </tr>\n    <tr>\n        <td>0</td>\n    </tr>\n</table>",
                        "text/plain": "[(Decimal('0'),)]"
                    },
                    "execution_count": 7,
                    "metadata": {},
                    "output_type": "execute_result"
                }
            ],
            "source": "%sql select COUNT(id) AS total_crimes_involving_arrest from CHICAGO_CRIME_DATA where arrest = 'TRUE'"
        },
        {
            "cell_type": "markdown",
            "metadata": {},
            "source": "### Problem 4\n\n##### Which unique types of crimes have been recorded at GAS STATION locations?\n"
        },
        {
            "cell_type": "code",
            "execution_count": 8,
            "metadata": {},
            "outputs": [
                {
                    "name": "stdout",
                    "output_type": "stream",
                    "text": " * ibm_db_sa://ngd93275:***@dashdb-txn-sbox-yp-dal09-04.services.dal.bluemix.net:50000/BLUDB\nDone.\n"
                },
                {
                    "data": {
                        "text/html": "<table>\n    <tr>\n        <th>gas_station_crimes</th>\n    </tr>\n</table>",
                        "text/plain": "[]"
                    },
                    "execution_count": 8,
                    "metadata": {},
                    "output_type": "execute_result"
                }
            ],
            "source": "%sql select DISTINCT(primary_type) AS gas_station_crimes from CHICAGO_CRIME_DATA where location_description = 'GAS STATION'"
        },
        {
            "cell_type": "markdown",
            "metadata": {},
            "source": "Hint: Which column lists types of crimes e.g. THEFT?"
        },
        {
            "cell_type": "markdown",
            "metadata": {},
            "source": "### Problem 5\n\n##### In the CENUS_DATA table list all Community Areas whose names start with the letter \u2018B\u2019."
        },
        {
            "cell_type": "code",
            "execution_count": 9,
            "metadata": {},
            "outputs": [
                {
                    "name": "stdout",
                    "output_type": "stream",
                    "text": " * ibm_db_sa://ngd93275:***@dashdb-txn-sbox-yp-dal09-04.services.dal.bluemix.net:50000/BLUDB\nDone.\n"
                },
                {
                    "data": {
                        "text/html": "<table>\n    <tr>\n        <th>community_area_name</th>\n    </tr>\n    <tr>\n        <td>Belmont Cragin</td>\n    </tr>\n    <tr>\n        <td>Burnside</td>\n    </tr>\n    <tr>\n        <td>Brighton Park</td>\n    </tr>\n    <tr>\n        <td>Bridgeport</td>\n    </tr>\n    <tr>\n        <td>Beverly</td>\n    </tr>\n</table>",
                        "text/plain": "[('Belmont Cragin',),\n ('Burnside',),\n ('Brighton Park',),\n ('Bridgeport',),\n ('Beverly',)]"
                    },
                    "execution_count": 9,
                    "metadata": {},
                    "output_type": "execute_result"
                }
            ],
            "source": "%sql select community_area_name from CENSUS_DATA where community_area_name like 'B%'"
        },
        {
            "cell_type": "markdown",
            "metadata": {},
            "source": "### Problem 6\n\n##### Which schools in Community Areas 10 to 15 are healthy school certified?"
        },
        {
            "cell_type": "code",
            "execution_count": 10,
            "metadata": {},
            "outputs": [
                {
                    "name": "stdout",
                    "output_type": "stream",
                    "text": " * ibm_db_sa://ngd93275:***@dashdb-txn-sbox-yp-dal09-04.services.dal.bluemix.net:50000/BLUDB\nDone.\n"
                },
                {
                    "data": {
                        "text/html": "<table>\n    <tr>\n        <th>name_of_school</th>\n        <th>healthy_school_certified</th>\n    </tr>\n    <tr>\n        <td>Rufus M Hitch Elementary School</td>\n        <td>Yes</td>\n    </tr>\n</table>",
                        "text/plain": "[('Rufus M Hitch Elementary School', 'Yes')]"
                    },
                    "execution_count": 10,
                    "metadata": {},
                    "output_type": "execute_result"
                }
            ],
            "source": "%%sql select name_of_school, healthy_school_certified\n    from chicago_public_schools \n    where healthy_school_certified = 'Yes' AND community_area_number between 10 and 15"
        },
        {
            "cell_type": "markdown",
            "metadata": {},
            "source": "### Problem 7\n\n##### What is the average school Safety Score? "
        },
        {
            "cell_type": "code",
            "execution_count": 11,
            "metadata": {},
            "outputs": [
                {
                    "name": "stdout",
                    "output_type": "stream",
                    "text": " * ibm_db_sa://ngd93275:***@dashdb-txn-sbox-yp-dal09-04.services.dal.bluemix.net:50000/BLUDB\nDone.\n"
                },
                {
                    "data": {
                        "text/html": "<table>\n    <tr>\n        <th>average_school_safety_score</th>\n    </tr>\n    <tr>\n        <td>49.504873</td>\n    </tr>\n</table>",
                        "text/plain": "[(Decimal('49.504873'),)]"
                    },
                    "execution_count": 11,
                    "metadata": {},
                    "output_type": "execute_result"
                }
            ],
            "source": "%sql select AVG(Safety_Score) AS average_school_safety_score from CHICAGO_PUBLIC_SCHOOLS"
        },
        {
            "cell_type": "markdown",
            "metadata": {},
            "source": "### Problem 8\n\n##### List the top 5 Community Areas by average College Enrollment [number of students] "
        },
        {
            "cell_type": "code",
            "execution_count": 12,
            "metadata": {},
            "outputs": [
                {
                    "name": "stdout",
                    "output_type": "stream",
                    "text": " * ibm_db_sa://ngd93275:***@dashdb-txn-sbox-yp-dal09-04.services.dal.bluemix.net:50000/BLUDB\nDone.\n"
                },
                {
                    "data": {
                        "text/html": "<table>\n    <tr>\n        <th>community_area_name</th>\n        <th>average_college_enrollment</th>\n    </tr>\n    <tr>\n        <td>ARCHER HEIGHTS</td>\n        <td>2411.500000</td>\n    </tr>\n    <tr>\n        <td>MONTCLARE</td>\n        <td>1317.000000</td>\n    </tr>\n    <tr>\n        <td>WEST ELSDON</td>\n        <td>1233.333333</td>\n    </tr>\n    <tr>\n        <td>BRIGHTON PARK</td>\n        <td>1205.875000</td>\n    </tr>\n    <tr>\n        <td>BELMONT CRAGIN</td>\n        <td>1198.833333</td>\n    </tr>\n</table>",
                        "text/plain": "[('ARCHER HEIGHTS', Decimal('2411.500000')),\n ('MONTCLARE', Decimal('1317.000000')),\n ('WEST ELSDON', Decimal('1233.333333')),\n ('BRIGHTON PARK', Decimal('1205.875000')),\n ('BELMONT CRAGIN', Decimal('1198.833333'))]"
                    },
                    "execution_count": 12,
                    "metadata": {},
                    "output_type": "execute_result"
                }
            ],
            "source": "%%sql select community_area_name, AVG(college_enrollment) AS average_college_enrollment\nfrom CHICAGO_PUBLIC_SCHOOLS\ngroup by community_area_name\norder by average_college_enrollment desc limit 5"
        },
        {
            "cell_type": "markdown",
            "metadata": {},
            "source": "### Problem 9\n\n##### Use a sub-query to determine which Community Area has the least value for school Safety Score? "
        },
        {
            "cell_type": "code",
            "execution_count": 13,
            "metadata": {},
            "outputs": [
                {
                    "name": "stdout",
                    "output_type": "stream",
                    "text": " * ibm_db_sa://ngd93275:***@dashdb-txn-sbox-yp-dal09-04.services.dal.bluemix.net:50000/BLUDB\nDone.\n"
                },
                {
                    "data": {
                        "text/html": "<table>\n    <tr>\n        <th>community_area_name</th>\n    </tr>\n    <tr>\n        <td>WASHINGTON PARK</td>\n    </tr>\n</table>",
                        "text/plain": "[('WASHINGTON PARK',)]"
                    },
                    "execution_count": 13,
                    "metadata": {},
                    "output_type": "execute_result"
                }
            ],
            "source": "%%sql select  community_area_name\nfrom CHICAGO_PUBLIC_SCHOOLS\nwhere safety_score = (select MIN(safety_score) from  CHICAGO_PUBLIC_SCHOOLS)"
        },
        {
            "cell_type": "markdown",
            "metadata": {},
            "source": "### Problem 10\n\n##### [Without using an explicit JOIN operator] Find the Per Capita Income of the Community Area which has a school Safety Score of 1."
        },
        {
            "cell_type": "code",
            "execution_count": 14,
            "metadata": {},
            "outputs": [
                {
                    "name": "stdout",
                    "output_type": "stream",
                    "text": " * ibm_db_sa://ngd93275:***@dashdb-txn-sbox-yp-dal09-04.services.dal.bluemix.net:50000/BLUDB\nDone.\n"
                },
                {
                    "data": {
                        "text/html": "<table>\n    <tr>\n        <th>per_capita_income</th>\n    </tr>\n    <tr>\n        <td>13785</td>\n    </tr>\n</table>",
                        "text/plain": "[(13785,)]"
                    },
                    "execution_count": 14,
                    "metadata": {},
                    "output_type": "execute_result"
                }
            ],
            "source": "%%sql select  per_capita_income from CENSUS_DATA \nwhere community_area_number = (select community_area_number from CHICAGO_PUBLIC_SCHOOLS where safety_score = 1)"
        },
        {
            "cell_type": "markdown",
            "metadata": {},
            "source": "Copyright &copy; 2018 [cognitiveclass.ai](cognitiveclass.ai?utm_source=bducopyrightlink&utm_medium=dswb&utm_campaign=bdu). This notebook and its source code are released under the terms of the [MIT License](https://bigdatauniversity.com/mit-license/).\n"
        }
    ],
    "metadata": {
        "kernelspec": {
            "display_name": "Python 3.6",
            "language": "python",
            "name": "python3"
        },
        "language_info": {
            "codemirror_mode": {
                "name": "ipython",
                "version": 3
            },
            "file_extension": ".py",
            "mimetype": "text/x-python",
            "name": "python",
            "nbconvert_exporter": "python",
            "pygments_lexer": "ipython3",
            "version": "3.6.9"
        },
        "widgets": {
            "state": {},
            "version": "1.1.2"
        }
    },
    "nbformat": 4,
    "nbformat_minor": 2
}